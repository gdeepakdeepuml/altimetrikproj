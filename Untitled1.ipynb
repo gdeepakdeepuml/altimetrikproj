{
 "cells": [
  {
   "cell_type": "code",
   "execution_count": 11,
   "metadata": {},
   "outputs": [],
   "source": [
    "import cv2\n",
    "\n",
    "import numpy as np\n",
    "\n",
    "\n",
    "\n",
    "#Open a simple image\n",
    "\n",
    "img=cv2.imread(\"pic1.png\")\n",
    "\n",
    "\n",
    "\n",
    "#converting from gbr to hsv color space\n",
    "\n",
    "img_HSV = cv2.cvtColor(img, cv2.COLOR_BGR2HSV)\n",
    "\n",
    "#skin color range for hsv color space \n",
    "\n",
    "HSV_mask = cv2.inRange(img_HSV, (0, 15, 0), (17,170,255)) \n",
    "\n",
    "HSV_mask = cv2.morphologyEx(HSV_mask, cv2.MORPH_OPEN, np.ones((3,3), np.uint8))\n",
    "\n",
    "\n",
    "\n",
    "#converting from gbr to YCbCr color space\n",
    "\n",
    "img_YCrCb = cv2.cvtColor(img, cv2.COLOR_BGR2YCrCb)\n",
    "\n",
    "#skin color range for hsv color space \n",
    "\n",
    "YCrCb_mask = cv2.inRange(img_YCrCb, (0, 135, 85), (255,180,135)) \n",
    "\n",
    "YCrCb_mask = cv2.morphologyEx(YCrCb_mask, cv2.MORPH_OPEN, np.ones((3,3), np.uint8))\n",
    "\n",
    "\n",
    "\n",
    "#merge skin detection (YCbCr and hsv)\n",
    "\n",
    "global_mask=cv2.bitwise_and(YCrCb_mask,HSV_mask)\n",
    "\n",
    "global_mask=cv2.medianBlur(global_mask,3)\n",
    "\n",
    "global_mask = cv2.morphologyEx(global_mask, cv2.MORPH_OPEN, np.ones((4,4), np.uint8))\n",
    "\n",
    "\n",
    "\n",
    "\n",
    "\n",
    "HSV_result = cv2.bitwise_not(HSV_mask)\n",
    "\n",
    "YCrCb_result = cv2.bitwise_not(YCrCb_mask)\n",
    "\n",
    "global_result=cv2.bitwise_not(global_mask)\n",
    "\n",
    "\n",
    "\n",
    "cv2.imwrite(\"1_HSV.jpg\",HSV_result)\n",
    "\n",
    "cv2.imwrite(\"2_YCbCr.jpg\",YCrCb_result)\n",
    "\n",
    "cv2.imwrite(\"3_global_result.jpg\",global_result)\n",
    "\n",
    "\n",
    "cv2.imshow(\"1_HSV.jpg\",HSV_result)\n",
    "\n",
    "cv2.imshow(\"2_YCbCr.jpg\",YCrCb_result)\n",
    "\n",
    "cv2.imshow(\"3_global_result.jpg\",global_result)\n",
    "\n",
    "cv2.imshow(\"Image.jpg\",img)\n",
    "\n",
    "cv2.waitKey(0)\n",
    "\n",
    "cv2.destroyAllWindows()  "
   ]
  },
  {
   "cell_type": "code",
   "execution_count": 9,
   "metadata": {},
   "outputs": [
    {
     "data": {
      "image/png": "[encoded data removed]",
      "text/plain": [
       "<Figure size 432x288 with 1 Axes>"
      ]
     },
     "metadata": {
      "needs_background": "light"
     },
     "output_type": "display_data"
    }
   ],
   "source": [
    "import cv2\n",
    "import numpy as np\n",
    "import matplotlib.pyplot as plt  \n",
    "img=cv2.imread('redshap.jpg')\n",
    "hsv = cv2.cvtColor(img,cv2.COLOR_BGR2HSV)\n",
    "lower_red = np.array([0,120,70])\n",
    "upper_red = np.array([10,255,255])\n",
    "mask1 = cv2.inRange(hsv, lower_red, upper_red)\n",
    "lower_red = np.array([170,120,70])\n",
    "upper_red = np.array([180,255,255])\n",
    "mask2 = cv2.inRange(hsv,lower_red,upper_red)\n",
    "mask = mask1+mask2\n",
    "plt.imshow(mask,'gray')\n",
    "plt.show()"
   ]
  },
  {
   "cell_type": "code",
   "execution_count": null,
   "metadata": {},
   "outputs": [],
   "source": [
    "Low_red = np.array([161, 155, 84])\n",
    "high_red = np.array([179, 255, 255])\n",
    "red_mask = cv2.inRange(hsv,Low_red,high_red)\n",
    "\n",
    "# Blue color\n",
    "low_blue = np.array([94, 80, 2])\n",
    "high_blue = np.array([126, 255, 255])\n",
    "blue_mask = cv2.inRange(hsv, low_blue, high_blue)"
   ]
  },
  {
   "cell_type": "code",
   "execution_count": 10,
   "metadata": {},
   "outputs": [],
   "source": [
    "import cv2\n",
    "import numpy as np \n",
    "\n",
    "img = cv2.imread('pic1.png')\n",
    "boundaries=[([25, 52, 72],[102, 255, 255]),([86, 31, 4],[220, 88, 50]),([25, 146, 190],[62, 174, 250]),([103, 86, 65],[145, 133, 128])]\n",
    "cap = cv2.\n",
    "while True :\n",
    "    for(lower,upper) in boundaries:\n",
    "        lower=np.array(lower,dtype='uint8')\n",
    "        upper=np.array(upper,dtype='uint8')\n",
    "        mask=cv2.inRange(img,lower,upper)\n",
    "        output= cv2.bitwise_and(img,img, mask = mask)\n",
    "        cv2.imshow('images',np.hstack([img,output]))\n",
    "        k=cv2.waitKey(1)\n",
    "        if k == 27:\n",
    "            break "
   ]
  },
  {
   "cell_type": "code",
   "execution_count": null,
   "metadata": {},
   "outputs": [],
   "source": []
  }
 ],
 "metadata": {
  "kernelspec": {
   "display_name": "Python 3",
   "language": "python",
   "name": "python3"
  },
  "language_info": {
   "codemirror_mode": {
    "name": "ipython",
    "version": 3
   },
   "file_extension": ".py",
   "mimetype": "text/x-python",
   "name": "python",
   "nbconvert_exporter": "python",
   "pygments_lexer": "ipython3",
   "version": "3.7.4"
  }
 },
 "nbformat": 4,
 "nbformat_minor": 2
}
